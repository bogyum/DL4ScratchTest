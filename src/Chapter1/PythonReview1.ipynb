{
 "cells": [
  {
   "cell_type": "code",
   "execution_count": 1,
   "metadata": {},
   "outputs": [],
   "source": [
    "def NormalizeList(list) :\n",
    "    xmin = min(list)\n",
    "    xmax = max(list)\n",
    "\n",
    "    newList = []\n",
    "    for x in list:\n",
    "        newList.append( (x - xmin) / (xmax - xmin) )\n",
    "    \n",
    "    return newList"
   ]
  },
  {
   "cell_type": "code",
   "execution_count": 2,
   "metadata": {},
   "outputs": [
    {
     "name": "stdout",
     "output_type": "stream",
     "text": [
      "Original List:  [6, 1, 3, 2, 9]\n",
      "Normalized List:  [0.625, 0.0, 0.25, 0.125, 1.0]\n"
     ]
    }
   ],
   "source": [
    "\n",
    "list = [6, 1, 3, 2, 9]\n",
    "print('Original List: ', list)\n",
    "nlist = NormalizeList(list)\n",
    "print('Normalized List: ', nlist)"
   ]
  },
  {
   "cell_type": "code",
   "execution_count": null,
   "metadata": {},
   "outputs": [],
   "source": []
  }
 ],
 "metadata": {
  "kernelspec": {
   "display_name": "tf",
   "language": "python",
   "name": "python3"
  },
  "language_info": {
   "codemirror_mode": {
    "name": "ipython",
    "version": 3
   },
   "file_extension": ".py",
   "mimetype": "text/x-python",
   "name": "python",
   "nbconvert_exporter": "python",
   "pygments_lexer": "ipython3",
   "version": "3.10.10"
  },
  "orig_nbformat": 4
 },
 "nbformat": 4,
 "nbformat_minor": 2
}
